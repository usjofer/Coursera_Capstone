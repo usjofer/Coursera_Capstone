{
 "cells": [
  {
   "cell_type": "markdown",
   "metadata": {},
   "source": [
    "# Battle of Neighborhoods.\n",
    "Let's assume we are about to move to New York City. We've found 3 apartments at approximately same price at the following addresses:\n",
    "- 49 First Ave, New York, NY 10003 \n",
    "- 22 Cornelia St, New York, NY 10014\n",
    "- 167 Hester St, New York, NY 10013\n",
    "<br><br>\n",
    "**The task is to decide which address is the most favourable to live in according to this criteria:**\n",
    "- proximity to subway stations\n",
    "- proximity to coffe shops \n",
    "- proximity to sushi restaurants (can't live a week without a Californa roll!)\n",
    "The proximity factor is also defined as 500 meters (~1/3 mile).\n",
    "<br><br>Using FourSquare data, we will identify the points of interest in the vincinity of each address, plot them on a map Folio and draw the conclusion\n",
    "#### Scoring method:\n",
    "\n",
    "|Facility   |Points|\n",
    "|-----------|------|\n",
    "|Subway stop|5     | \n",
    "|Coffee shop|3     | \n",
    "|Sushi Rest |2     | \n"
   ]
  },
  {
   "cell_type": "code",
   "execution_count": 1,
   "metadata": {},
   "outputs": [
    {
     "name": "stdout",
     "output_type": "stream",
     "text": [
      "Libraries imported.\n"
     ]
    }
   ],
   "source": [
    "import numpy as np # library to handle data in a vectorized manner\n",
    "import pandas as pd # library for data analsysis\n",
    "pd.set_option('display.max_columns', None)\n",
    "pd.set_option('display.max_rows', None)\n",
    "import json # library to handle JSON files\n",
    "#!conda install -c conda-forge geopy --yes # uncomment this line if you haven't completed the Foursquare API lab\n",
    "from geopy.geocoders import Nominatim # convert an address into latitude and longitude values\n",
    "import requests # library to handle requests\n",
    "from pandas.io.json import json_normalize # tranform JSON file into a pandas dataframe\n",
    "# Matplotlib and associated plotting modules\n",
    "import matplotlib.cm as cm\n",
    "import matplotlib.colors as colors\n",
    "\n",
    "#!conda install -c conda-forge folium=0.5.0 --yes # uncomment this line if you haven't completed the Foursquare API lab\n",
    "import folium # map rendering library\n",
    "\n",
    "print('Libraries imported.')"
   ]
  },
  {
   "cell_type": "code",
   "execution_count": 2,
   "metadata": {},
   "outputs": [],
   "source": [
    "# define the dataframe columns\n",
    "column_names = ['Name', 'Latitude', 'Longitude'] \n",
    "addresses = ['49 1st Ave, New York, NY 10003',\n",
    "             '22 Cornelia St, New York, NY 10014',\n",
    "             '167 Hester St, New York, NY 10013']\n",
    "# instantiate the dataframe\n",
    "df_addr = pd.DataFrame(columns=column_names)\n",
    "df_addr[\"Name\"]=addresses"
   ]
  },
  {
   "cell_type": "code",
   "execution_count": 3,
   "metadata": {},
   "outputs": [
    {
     "data": {
      "text/html": [
       "<div>\n",
       "<style scoped>\n",
       "    .dataframe tbody tr th:only-of-type {\n",
       "        vertical-align: middle;\n",
       "    }\n",
       "\n",
       "    .dataframe tbody tr th {\n",
       "        vertical-align: top;\n",
       "    }\n",
       "\n",
       "    .dataframe thead th {\n",
       "        text-align: right;\n",
       "    }\n",
       "</style>\n",
       "<table border=\"1\" class=\"dataframe\">\n",
       "  <thead>\n",
       "    <tr style=\"text-align: right;\">\n",
       "      <th></th>\n",
       "      <th>Name</th>\n",
       "      <th>Latitude</th>\n",
       "      <th>Longitude</th>\n",
       "    </tr>\n",
       "  </thead>\n",
       "  <tbody>\n",
       "    <tr>\n",
       "      <th>0</th>\n",
       "      <td>49 1st Ave, New York, NY 10003</td>\n",
       "      <td>40.7248</td>\n",
       "      <td>-73.9876</td>\n",
       "    </tr>\n",
       "    <tr>\n",
       "      <th>1</th>\n",
       "      <td>22 Cornelia St, New York, NY 10014</td>\n",
       "      <td>40.7313</td>\n",
       "      <td>-74.0021</td>\n",
       "    </tr>\n",
       "    <tr>\n",
       "      <th>2</th>\n",
       "      <td>167 Hester St, New York, NY 10013</td>\n",
       "      <td>40.7178</td>\n",
       "      <td>-73.9966</td>\n",
       "    </tr>\n",
       "  </tbody>\n",
       "</table>\n",
       "</div>"
      ],
      "text/plain": [
       "                                 Name Latitude Longitude\n",
       "0      49 1st Ave, New York, NY 10003  40.7248  -73.9876\n",
       "1  22 Cornelia St, New York, NY 10014  40.7313  -74.0021\n",
       "2   167 Hester St, New York, NY 10013  40.7178  -73.9966"
      ]
     },
     "execution_count": 3,
     "metadata": {},
     "output_type": "execute_result"
    }
   ],
   "source": [
    "# get coordinates for each address using Nominatum\n",
    "geolocator = Nominatim(user_agent=\"ny_explorer\")\n",
    "for i in range(df_addr.shape[0]):\n",
    "  location = geolocator.geocode(df_addr.iloc[i][\"Name\"])\n",
    "  df_addr.iloc[i].Latitude = location.latitude\n",
    "  df_addr.iloc[i].Longitude = location.longitude\n",
    "df_addr"
   ]
  },
  {
   "cell_type": "code",
   "execution_count": 4,
   "metadata": {},
   "outputs": [
    {
     "data": {
      "text/html": [
       "<div style=\"width:100%;\"><div style=\"position:relative;width:100%;height:0;padding-bottom:60%;\"><iframe src=\"data:text/html;charset=utf-8;base64,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\" style=\"position:absolute;width:100%;height:100%;left:0;top:0;border:none !important;\" allowfullscreen webkitallowfullscreen mozallowfullscreen></iframe></div></div>"
      ],
      "text/plain": [
       "<folium.folium.Map at 0x250dc207e80>"
      ]
     },
     "execution_count": 4,
     "metadata": {},
     "output_type": "execute_result"
    }
   ],
   "source": [
    "# create map of New York using latitude and longitude values\n",
    "map_newyork = folium.Map(location=list(df_addr[['Latitude', 'Longitude']].iloc[0]), zoom_start=14)\n",
    "\n",
    "# add markers to map\n",
    "for addr, lat, lng in zip(df_addr['Name'], df_addr['Latitude'], df_addr['Longitude']):\n",
    "    label = addr\n",
    "    label = folium.Popup(label, parse_html=True)\n",
    "    folium.CircleMarker(\n",
    "        [lat, lng],\n",
    "        radius=5,\n",
    "        popup=label,\n",
    "        color='blue',\n",
    "        fill=True,\n",
    "        fill_color='#3186cc',\n",
    "        fill_opacity=0.7,\n",
    "        parse_html=False).add_to(map_newyork)  \n",
    "    \n",
    "map_newyork"
   ]
  },
  {
   "cell_type": "code",
   "execution_count": null,
   "metadata": {},
   "outputs": [],
   "source": [
    "#Load FourSquare credentials\n",
    "import yaml\n",
    "FOURSQ_CONFIG_FILE = '4SQ.env'\n",
    "with open(FOURSQ_CONFIG_FILE, 'r') as config_file:\n",
    "    config = yaml.load(config_file, Loader=yaml.BaseLoader)\n",
    "\n",
    "# set parameters for FourSquare API calls\n",
    "CLIENT_ID = config['FOURSQUARE']['CLIENT_ID']\n",
    "CLIENT_SECRET = config['FOURSQUARE']['CLIENT_SECRET']\n",
    "VERSION = '20190708' # Foursquare API version\n",
    "radius = 500 # 1KM radius\n",
    "limit = 500 # 500 result limit "
   ]
  },
  {
   "cell_type": "code",
   "execution_count": null,
   "metadata": {},
   "outputs": [],
   "source": [
    "def getNearbyVenues(coords, categoryID='', q_name='',radius=500, intent=\"browse\"):\n",
    "    venues_list=[]\n",
    "    for address, lat, lng in coords:\n",
    "        #print(q_name)\n",
    "            \n",
    "        # create the API request URL\n",
    "        url = ('https://api.foursquare.com/v2/venues/search?client_id={}&client_secret={}&v={}&ll={},{}&radius={}'\n",
    "        '&intent={}&categoryId={}'\n",
    "        '&limit={}'\n",
    "        '&query={}'\n",
    "        ).format(\n",
    "            CLIENT_ID, \n",
    "            CLIENT_SECRET, \n",
    "            VERSION, \n",
    "            lat, \n",
    "            lng, \n",
    "            radius, \n",
    "            intent,\n",
    "            categoryID,\n",
    "            limit,\n",
    "            q_name\n",
    "        )\n",
    "            \n",
    "        # make the GET request\n",
    "#        print(\"URL:\"+url)\n",
    "        url_results = requests.get(url).json()[\"response\"]\n",
    "#        print(url_results)\n",
    "        #results=url_results['groups'][0]['items']\n",
    "        results=url_results['venues']\n",
    "        # return only relevant information for each nearby venue\n",
    "        venues_list.append([(\n",
    " #           v['id'],\n",
    "            address,\n",
    "            v['name'], \n",
    "            v['location']['lat'], \n",
    "            v['location']['lng']  \n",
    "#            v['categories'][0]['name']\n",
    "        )\n",
    "            for v in results])\n",
    "\n",
    "    nearby_venues = pd.DataFrame([item for venue_list in venues_list for item in venue_list])\n",
    "    nearby_venues.columns = [ \n",
    "#                  'Venue ID',\n",
    "                  'Address',\n",
    "                  'Name', \n",
    "                  'Latitude', \n",
    "                  'Longitude' \n",
    "#                  'Venue Category'\n",
    "    ]\n",
    "    \n",
    "    return(nearby_venues)"
   ]
  },
  {
   "cell_type": "code",
   "execution_count": null,
   "metadata": {},
   "outputs": [],
   "source": [
    "# declare foursquare categories \n",
    "fsq_cat={'Coffee Shop':'4bf58dd8d48988d1e0931735',\n",
    "         'Subway':'4bf58dd8d48988d1fd931735',\n",
    "         'Sushi Restaurant':'4bf58dd8d48988d1d2941735'}"
   ]
  },
  {
   "cell_type": "code",
   "execution_count": null,
   "metadata": {},
   "outputs": [
    {
     "data": {
      "text/html": [
       "<div>\n",
       "<style scoped>\n",
       "    .dataframe tbody tr th:only-of-type {\n",
       "        vertical-align: middle;\n",
       "    }\n",
       "\n",
       "    .dataframe tbody tr th {\n",
       "        vertical-align: top;\n",
       "    }\n",
       "\n",
       "    .dataframe thead th {\n",
       "        text-align: right;\n",
       "    }\n",
       "</style>\n",
       "<table border=\"1\" class=\"dataframe\">\n",
       "  <thead>\n",
       "    <tr style=\"text-align: right;\">\n",
       "      <th></th>\n",
       "      <th>Address</th>\n",
       "      <th>Name</th>\n",
       "      <th>Latitude</th>\n",
       "      <th>Longitude</th>\n",
       "    </tr>\n",
       "  </thead>\n",
       "  <tbody>\n",
       "    <tr>\n",
       "      <th>0</th>\n",
       "      <td>49 1st Ave, New York, NY 10003</td>\n",
       "      <td>Mudpark</td>\n",
       "      <td>40.723127</td>\n",
       "      <td>-73.988794</td>\n",
       "    </tr>\n",
       "    <tr>\n",
       "      <th>1</th>\n",
       "      <td>49 1st Ave, New York, NY 10003</td>\n",
       "      <td>Allegro Coffee Roasters</td>\n",
       "      <td>40.723627</td>\n",
       "      <td>-73.991291</td>\n",
       "    </tr>\n",
       "    <tr>\n",
       "      <th>2</th>\n",
       "      <td>49 1st Ave, New York, NY 10003</td>\n",
       "      <td>Ludlow Coffee Supply</td>\n",
       "      <td>40.721711</td>\n",
       "      <td>-73.987521</td>\n",
       "    </tr>\n",
       "    <tr>\n",
       "      <th>3</th>\n",
       "      <td>49 1st Ave, New York, NY 10003</td>\n",
       "      <td>Mudspot</td>\n",
       "      <td>40.729082</td>\n",
       "      <td>-73.986750</td>\n",
       "    </tr>\n",
       "    <tr>\n",
       "      <th>4</th>\n",
       "      <td>49 1st Ave, New York, NY 10003</td>\n",
       "      <td>The Bean</td>\n",
       "      <td>40.725762</td>\n",
       "      <td>-73.989652</td>\n",
       "    </tr>\n",
       "  </tbody>\n",
       "</table>\n",
       "</div>"
      ],
      "text/plain": [
       "                          Address                     Name   Latitude  \\\n",
       "0  49 1st Ave, New York, NY 10003                  Mudpark  40.723127   \n",
       "1  49 1st Ave, New York, NY 10003  Allegro Coffee Roasters  40.723627   \n",
       "2  49 1st Ave, New York, NY 10003     Ludlow Coffee Supply  40.721711   \n",
       "3  49 1st Ave, New York, NY 10003                  Mudspot  40.729082   \n",
       "4  49 1st Ave, New York, NY 10003                 The Bean  40.725762   \n",
       "\n",
       "   Longitude  \n",
       "0 -73.988794  \n",
       "1 -73.991291  \n",
       "2 -73.987521  \n",
       "3 -73.986750  \n",
       "4 -73.989652  "
      ]
     },
     "execution_count": 8,
     "metadata": {},
     "output_type": "execute_result"
    }
   ],
   "source": [
    "#get coffee shops\n",
    "df_coffee = getNearbyVenues(df_addr.values, categoryID=fsq_cat[\"Coffee Shop\"],radius=500)\n",
    "df_coffee.head(5)"
   ]
  },
  {
   "cell_type": "code",
   "execution_count": null,
   "metadata": {},
   "outputs": [
    {
     "data": {
      "text/html": [
       "<div>\n",
       "<style scoped>\n",
       "    .dataframe tbody tr th:only-of-type {\n",
       "        vertical-align: middle;\n",
       "    }\n",
       "\n",
       "    .dataframe tbody tr th {\n",
       "        vertical-align: top;\n",
       "    }\n",
       "\n",
       "    .dataframe thead th {\n",
       "        text-align: right;\n",
       "    }\n",
       "</style>\n",
       "<table border=\"1\" class=\"dataframe\">\n",
       "  <thead>\n",
       "    <tr style=\"text-align: right;\">\n",
       "      <th></th>\n",
       "      <th>Address</th>\n",
       "      <th>Name</th>\n",
       "      <th>Latitude</th>\n",
       "      <th>Longitude</th>\n",
       "    </tr>\n",
       "  </thead>\n",
       "  <tbody>\n",
       "    <tr>\n",
       "      <th>0</th>\n",
       "      <td>49 1st Ave, New York, NY 10003</td>\n",
       "      <td>MTA Subway - 2nd Ave (F)</td>\n",
       "      <td>40.723101</td>\n",
       "      <td>-73.988866</td>\n",
       "    </tr>\n",
       "    <tr>\n",
       "      <th>1</th>\n",
       "      <td>22 Cornelia St, New York, NY 10014</td>\n",
       "      <td>MTA Subway - W 4th Street/Washington Square (A...</td>\n",
       "      <td>40.731113</td>\n",
       "      <td>-74.001307</td>\n",
       "    </tr>\n",
       "    <tr>\n",
       "      <th>2</th>\n",
       "      <td>22 Cornelia St, New York, NY 10014</td>\n",
       "      <td>MTA Subway - Houston St (1)</td>\n",
       "      <td>40.728178</td>\n",
       "      <td>-74.005370</td>\n",
       "    </tr>\n",
       "    <tr>\n",
       "      <th>3</th>\n",
       "      <td>22 Cornelia St, New York, NY 10014</td>\n",
       "      <td>Christopher Street PATH Station</td>\n",
       "      <td>40.732937</td>\n",
       "      <td>-74.006905</td>\n",
       "    </tr>\n",
       "    <tr>\n",
       "      <th>4</th>\n",
       "      <td>22 Cornelia St, New York, NY 10014</td>\n",
       "      <td>MTA Subway - Christopher St/Sheridan Square (1)</td>\n",
       "      <td>40.733619</td>\n",
       "      <td>-74.002823</td>\n",
       "    </tr>\n",
       "  </tbody>\n",
       "</table>\n",
       "</div>"
      ],
      "text/plain": [
       "                              Address  \\\n",
       "0      49 1st Ave, New York, NY 10003   \n",
       "1  22 Cornelia St, New York, NY 10014   \n",
       "2  22 Cornelia St, New York, NY 10014   \n",
       "3  22 Cornelia St, New York, NY 10014   \n",
       "4  22 Cornelia St, New York, NY 10014   \n",
       "\n",
       "                                                Name   Latitude  Longitude  \n",
       "0                           MTA Subway - 2nd Ave (F)  40.723101 -73.988866  \n",
       "1  MTA Subway - W 4th Street/Washington Square (A...  40.731113 -74.001307  \n",
       "2                        MTA Subway - Houston St (1)  40.728178 -74.005370  \n",
       "3                    Christopher Street PATH Station  40.732937 -74.006905  \n",
       "4    MTA Subway - Christopher St/Sheridan Square (1)  40.733619 -74.002823  "
      ]
     },
     "execution_count": 9,
     "metadata": {},
     "output_type": "execute_result"
    }
   ],
   "source": [
    "#get subway stations\n",
    "df_subway = getNearbyVenues(df_addr.values, categoryID=fsq_cat[\"Subway\"],radius=500)\n",
    "df_subway.head(5)"
   ]
  },
  {
   "cell_type": "code",
   "execution_count": null,
   "metadata": {},
   "outputs": [],
   "source": [
    "#get Sushi restaurants (yum!)\n",
    "df_sushi = getNearbyVenues(df_addr.values, categoryID=fsq_cat[\"Sushi Restaurant\"],radius=500)\n",
    "df_sushi.head(5)"
   ]
  },
  {
   "cell_type": "code",
   "execution_count": null,
   "metadata": {},
   "outputs": [],
   "source": [
    "# Assign location type and merge the data sets \n",
    "df_coffee[\"Type\"]=\"Coffee\"\n",
    "df_subway[\"Type\"]=\"Subway\"\n",
    "df_sushi[\"Type\"]=\"Sushi\"\n",
    "df_all = pd.concat([df_coffee, df_subway, df_sushi])\n",
    "df_all.head(5)"
   ]
  },
  {
   "cell_type": "code",
   "execution_count": null,
   "metadata": {},
   "outputs": [],
   "source": [
    "# create map of New York using latitude and longitude values\n",
    "map_newyork = folium.Map(location=list(df_addr[['Latitude', 'Longitude']].iloc[0]), zoom_start=14)\n",
    "chain_color = { \"Address\":\"red\",\"Coffee\":\"yellow\",\"Subway\":\"green\",\"Sushi\":\"blue\"}\n",
    "\n",
    "#add addresses to the map\n",
    "for lat, lng, name in zip(df_addr['Latitude'], df_addr['Longitude'], df_addr['Name']):\n",
    "    label = 'Address:' + name \n",
    "    label = folium.Popup(label, parse_html=True)\n",
    "    folium.CircleMarker(\n",
    "        [lat, lng],\n",
    "        radius=5,\n",
    "        popup=label,\n",
    "        color='red',\n",
    "        fill=True,\n",
    "        fill_color='red',\n",
    "        fill_opacity=0.7,\n",
    "        parse_html=False).add_to(map_newyork)  \n",
    "\n",
    "# add markers to map\n",
    "for lat, lng, name, ltype in zip(df_all['Latitude'], df_all['Longitude'], df_all['Name'],df_all['Type']):\n",
    "    label = ltype +':' + name \n",
    "    label = folium.Popup(label, parse_html=True)\n",
    "    folium.CircleMarker(\n",
    "        [lat, lng],\n",
    "        radius=5,\n",
    "        popup=label,\n",
    "        color=chain_color.get(ltype),\n",
    "        fill=True,\n",
    "        fill_color=chain_color.get(ltype),\n",
    "        fill_opacity=0.7,\n",
    "        parse_html=False).add_to(map_newyork)  \n",
    "    \n",
    "map_newyork"
   ]
  },
  {
   "cell_type": "code",
   "execution_count": null,
   "metadata": {
    "scrolled": true
   },
   "outputs": [],
   "source": [
    "#get the total number of venues by address\n",
    "df_score = pd.concat([df_all[\"Address\"],pd.get_dummies(df_all.Type)],1).groupby(['Address']).sum().reset_index()\n",
    "df_score"
   ]
  },
  {
   "cell_type": "markdown",
   "metadata": {},
   "source": [
    "Finally, we are ready to apply the scoring method and anounce the winner."
   ]
  },
  {
   "cell_type": "code",
   "execution_count": null,
   "metadata": {},
   "outputs": [],
   "source": [
    "df_score[\"Points\"]=df_score[\"Coffee\"]*3+df_score['Subway']*5+df_score['Sushi']*2\n",
    "df_score.sort_values(by='Points', ascending=False, inplace = True)\n",
    "df_score"
   ]
  },
  {
   "cell_type": "code",
   "execution_count": null,
   "metadata": {},
   "outputs": [],
   "source": [
    "#Announce the winner\n",
    "print(\"And the winner is...\"+df_score.iloc[0][\"Address\"]+'!')"
   ]
  },
  {
   "cell_type": "code",
   "execution_count": null,
   "metadata": {},
   "outputs": [],
   "source": []
  }
 ],
 "metadata": {
  "kernelspec": {
   "display_name": "Python 3",
   "language": "python",
   "name": "python3"
  },
  "language_info": {
   "codemirror_mode": {
    "name": "ipython",
    "version": 3
   },
   "file_extension": ".py",
   "mimetype": "text/x-python",
   "name": "python",
   "nbconvert_exporter": "python",
   "pygments_lexer": "ipython3",
   "version": "3.6.8"
  }
 },
 "nbformat": 4,
 "nbformat_minor": 2
}
